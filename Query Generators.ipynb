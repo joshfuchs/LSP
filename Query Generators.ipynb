{
 "cells": [
  {
   "cell_type": "code",
   "execution_count": 1,
   "metadata": {
    "collapsed": true
   },
   "outputs": [],
   "source": [
    "import csv\n",
    "import numpy as np\n",
    "from astropy.table import Table, vstack, hstack, join\n",
    "from astropy.io import ascii"
   ]
  },
  {
   "cell_type": "markdown",
   "metadata": {},
   "source": [
    "# Tools"
   ]
  },
  {
   "cell_type": "code",
   "execution_count": 2,
   "metadata": {
    "collapsed": true
   },
   "outputs": [],
   "source": [
    "def find_longest(column):\n",
    "    \"\"\"Find Longest Value\n",
    "    Finds the longest value in a data column\n",
    "    I wouldn't be suprised if there's a built-in function for this, but I like being difficult sometimes :)\n",
    "    \n",
    "    Args:\n",
    "        column (list): column of data with numerical values that can be ~quite~ long\n",
    "        \n",
    "    Returns:\n",
    "        (int): Size of the longest value\n",
    "    \n",
    "    \"\"\"\n",
    "    longest_value = 0\n",
    "    for item in column:\n",
    "        if len(item) > longest_value:\n",
    "            longest_value = len(item)\n",
    "            \n",
    "    return longest_value"
   ]
  },
  {
   "cell_type": "code",
   "execution_count": 3,
   "metadata": {
    "collapsed": true
   },
   "outputs": [],
   "source": [
    "def ugly_spacer(longest_value = 0, offset = 0):\n",
    "    \"\"\"The Ugly IPAC Spacer\n",
    "    Generates spaces for IPAC tables, since I think they need to be formatted very specifically to work properly\n",
    "    I apologize in advance for the sins this function participates in\n",
    "    \n",
    "    Args:\n",
    "        longest_value (int): Length of longest value in a dataset (character-wise)\n",
    "        offset (int): how many spaces to remove to fit the actual data correctly\n",
    "        \n",
    "    Returns:\n",
    "        (str): String containing the perfect amount of spaces for a beautiful IPAC table\n",
    "    \"\"\"\n",
    "    count = 0\n",
    "    spacer_list = []\n",
    "    while count < (longest_value-offset):\n",
    "        spacer_list.append(' ')\n",
    "        count += 1\n",
    "    \n",
    "    spacer = ''.join(map(str,spacer_list))\n",
    "    return(spacer)"
   ]
  },
  {
   "cell_type": "code",
   "execution_count": 4,
   "metadata": {
    "collapsed": true
   },
   "outputs": [],
   "source": [
    "def min_to_deg(value):\n",
    "    \"\"\"Min-to-Deg\n",
    "    Converts RA/Dec values from deg-min-sec format to decimal degrees, to interface with other data formats\n",
    "    This function should be valid for any dataset using this format, so here's hoping!\n",
    "    \n",
    "    Args:\n",
    "        value (str): dg-mn-se.conds format coordinates\n",
    "        \n",
    "    Returns:\n",
    "        (float): decimal degree coordinates    \n",
    "    \"\"\"\n",
    "    \n",
    "    degrees = []\n",
    "    minutes = []\n",
    "    seconds = []\n",
    "    \n",
    "    coord = [degrees, minutes, seconds]\n",
    "    index_num = 0\n",
    "    \n",
    "    for char in value:\n",
    "        if char == ' ':\n",
    "            index_num += 1\n",
    "        else:\n",
    "            coord[index_num].append(char)\n",
    "    \n",
    "    #I didn't know how to turn this set of lists and ints and such to values\n",
    "    #until I found this solution on ~the Internet~\n",
    "    #https://stackoverflow.com/a/490020        \n",
    "    deg_val = int(''.join(map(str,degrees)))\n",
    "    min_val = int(''.join(map(str,minutes)))\n",
    "    sec_val = float(''.join(map(str,seconds)))\n",
    "    \n",
    "    decimal_coord = deg_val + min_val/60 + sec_val/60**2\n",
    "            \n",
    "    return decimal_coord"
   ]
  },
  {
   "cell_type": "code",
   "execution_count": 5,
   "metadata": {
    "collapsed": true
   },
   "outputs": [],
   "source": [
    "def xmm_processor(xmm_data):\n",
    "    \"\"\"XMM-Newton Data Processor\n",
    "    Removes extraneous columns in the data table, as well as converting coordinates to degrees.\n",
    "    This overwrites the stored table, but does not affect the actual file, so this must be run every time xmm-data is\n",
    "    read from a file.\n",
    "    \n",
    "    Args:\n",
    "        xmm_data (astropy.Table): XMM-Newton data table that needs processing\n",
    "        \n",
    "    Returns:\n",
    "        n/a    \n",
    "    \"\"\"\n",
    "    #stupid delimiters before columns lead astropy to think there are blank columns at the beginning and end of the data\n",
    "    #I hate that, but I don't want to alter the data file, so I pulled the following little number to eliminate those:\n",
    "    #del xmm_data['col0','col21']\n",
    "    #this thing kills the stupid extraneous columns before 'ra', but I want a sneakier way to do this :(\n",
    "    #del xmm_data['detid','srcid','name']\n",
    "    \n",
    "    count = 0\n",
    "    for row in xmm_data:\n",
    "        nu_ra = min_to_deg(row['ra'])\n",
    "        nu_dec = min_to_deg(row['dec'])\n",
    "        xmm_data[count]['ra'] = nu_ra\n",
    "        xmm_data[count]['dec'] = nu_dec\n",
    "        \n",
    "        count += 1"
   ]
  },
  {
   "cell_type": "markdown",
   "metadata": {},
   "source": [
    "# Querying File Generators"
   ]
  },
  {
   "cell_type": "code",
   "execution_count": 6,
   "metadata": {
    "collapsed": true
   },
   "outputs": [],
   "source": [
    "def generate_sdss(filename, dataset):\n",
    "    \"\"\"SDSS querying table Generator\n",
    "    Processes a table of XMM-Newton data to produce a workable querying file for the online CrossID database for SDSS.\n",
    "    I apologize for any sinfulness, this is a first draft of code built to work and not much else\n",
    "    \n",
    "    Ags:\n",
    "        filename (str): desired filename for the output table\n",
    "        dataset  (astropy.Table): table of XMM-Newton data with coordinates that will be used to construct a query\n",
    "        \n",
    "    Returns:\n",
    "        n/a    \n",
    "    \"\"\"\n",
    "\n",
    "    count = 0\n",
    "    txt_count = 0\n",
    "    \n",
    "    infile = open(filename+str(txt_count)+'.txt', 'w')\n",
    "    infile.write('name   ra   dec\\n')\n",
    "    \n",
    "    \n",
    "    for row in range(len(dataset)):\n",
    "        if count >= 5000:\n",
    "            txt_count += 1\n",
    "            count = 0\n",
    "            infile.close()\n",
    "            infile = open(filename+str(txt_count)+'.txt','w')\n",
    "\n",
    "        ra = float(dataset['ra'][row])\n",
    "        dec = float(dataset['dec'][row])\n",
    "\n",
    "        if ra < 0 or dec < 0:\n",
    "            infile.write(str(row)+'\\n')\n",
    "        else:\n",
    "            ra_val = str(ra)\n",
    "            dec_val = str(dec)\n",
    "            infile.write(str(row)+' '+ra_val+' '+dec_val+'\\n')\n",
    "\n",
    "        count += 1\n",
    "        \n",
    "    infile.close()"
   ]
  },
  {
   "cell_type": "code",
   "execution_count": 7,
   "metadata": {
    "collapsed": true
   },
   "outputs": [],
   "source": [
    "def generate_ipac(filename, dataset):\n",
    "    \"\"\"IPAC Table Generator\n",
    "    Processes a table of XMM-Newton data to produce a workable querying file for the online Gator database for WISE.\n",
    "    I apologize for any sinfulness, this is a first draft of code built to work and not much else\n",
    "    \n",
    "    Ags:\n",
    "        filename (str): desired filename for the output IPAC table\n",
    "        dataset  (astropy.Table): table of XMM-Newton data with coordinates that will be used to construct an IPAC table\n",
    "        \n",
    "    Returns:\n",
    "        n/a    \n",
    "    \"\"\"\n",
    "    #IPAC file for WISE querying, found at the following database:\n",
    "    #https://irsa.ipac.caltech.edu/cgi-bin/Gator/nph-dd\n",
    "    #\n",
    "    #IPAC basic guide here:\n",
    "    #https://irsa.ipac.caltech.edu/applications/Gator/GatorAid/irsa/upload.html\n",
    "    infile = open(filename+'.txt', 'w')\n",
    "    \n",
    "    ra_longest = find_longest(dataset['ra'])\n",
    "    dec_longest = find_longest(dataset['dec'])\n",
    "\n",
    "    #Wanna se a real mess of a table writer? Here you go!\n",
    "    infile.write('|'+ugly_spacer(ra_longest,2)+'ra|'+ugly_spacer(dec_longest,3)+'dec|\\n')\n",
    "    infile.write('|'+ugly_spacer(ra_longest,6)+'double|'+ugly_spacer(dec_longest,6)+'double|\\n')\n",
    "    infile.write('|'+ugly_spacer(ra_longest)+'|'+ugly_spacer(dec_longest)+'|\\n')\n",
    "    infile.write('|'+ugly_spacer(ra_longest,4)+'null|'+ugly_spacer(dec_longest,4)+'null|\\n')\n",
    "    \n",
    "    #It gets worse, watch this:\n",
    "    for row in range(len(dataset)):\n",
    "        ra_offset = len(dataset['ra'][row])\n",
    "        dec_offset = len(dataset['dec'][row])\n",
    "        ra_val = str(dataset['ra'][row])\n",
    "        dec_val = str(dataset['dec'][row])\n",
    "        \n",
    "        infile.write(' '+ugly_spacer(ra_longest,ra_offset)+ra_val+' '+ugly_spacer(dec_longest,dec_offset)+dec_val+' \\n')\n",
    "        \n",
    "    infile.close()"
   ]
  },
  {
   "cell_type": "markdown",
   "metadata": {},
   "source": [
    "**Where to get XMM-Newton Data:**\n",
    "\n",
    "https://heasarc.gsfc.nasa.gov/db-perl/W3Browse/w3table.pl?tablehead=name%3Dxmmssc&Action=More+Options\n",
    "    \n",
    "How to grab this data:\n",
    "\n",
    "    1. Check the \"ra\",\"dec\", \"pn_#_rate (# = 1 to 5)\", \"m1_#_rate\", \"m2_#_rate\" boxes\n",
    "    \n",
    "    2. In the query terms for \"ra\" and \"dec\", put \">=0\" b/c SDSS hates negative coordinates\n",
    "    \n",
    "    3. Go to the very bottom of the page, select your results size in the \"Limit Results to:\" section\n",
    "    \n",
    "    4. Set the output format to be a text table\n",
    "    \n",
    "    5. Start the search, and depending on your results size, wait a while. Grab a drink and a snack or smth"
   ]
  },
  {
   "cell_type": "markdown",
   "metadata": {},
   "source": [
    "**How to successfully query Gator like an absolute madman/madwoman:**\n",
    "\n",
    " https://irsa.ipac.caltech.edu/cgi-bin/Gator/nph-dd?catalog=allwise_p3as_psd&mode=html&passproj&\n",
    " \n",
    "    1. Generate an IPAC table using this amazing program\n",
    "    \n",
    "    2. Select \"Multi-object Search\", check the \"One to One Match\" box, and upload the IPAC table you generated\n",
    "    \n",
    "    3. In the \"Column Constraints/Output Column Selection\" box, deselect all rows except the following:\n",
    "       \"w1mpro\", \"w2mpro\", \"w3mpro\", \"w4mpro\" (each of these will have units as \"mag\", or magnitude)\n",
    "    \n",
    "    4. Hit the \"Run Query\" button at the bottom of the page (or the middle of the page lmao)\n",
    "    \n",
    "    5. Let the database work its magic! Get a drink or snack or something if it's taking a while\n",
    "    \n",
    "    6. After it finishes, navigate to the results table at the bottom of the page, & click the gear icon(\"Edit table options\")\n",
    "    \n",
    "    7. Deselect all but the \"ra\", \"dec\", and the rows you selected in step 4\n",
    "    \n",
    "    8. Click the floppy disk icon to save the file locally, choose a filename that helps you find the data easily, storing it\n",
    "       in the same directory as the main program for ease-of-use purposes\n",
    "    \n",
    "    9. That's it! You've just queried Gator! Best of luck in your future research endeavours!"
   ]
  },
  {
   "cell_type": "markdown",
   "metadata": {},
   "source": [
    "**How to grab SDSS data:**\n",
    "\n",
    "http://cas.sdss.org/dr7/en/tools/crossid/upload.asp\n",
    "\n",
    "    1. Generate an SDSS query table\n",
    "    \n",
    "    2. Upload the file to the link above\n",
    "    \n",
    "    3. Input the following SQL query:\n",
    "    \n",
    "        SELECT \n",
    "           p.ra, p.dec,\n",
    "           p.modelMag_u, p.modelMag_g, p.modelMag_r, p.modelMag_i, p.modelMag_z \n",
    "        FROM #x x, #upload u, PhotoTag p\n",
    "        WHERE u.up_id = x.up_id and x.objID=p.objID\n",
    "    \n",
    "    4. Select CSV-type output\n",
    "    \n",
    "    5. Run the query!"
   ]
  },
  {
   "cell_type": "markdown",
   "metadata": {},
   "source": [
    "# H"
   ]
  },
  {
   "cell_type": "code",
   "execution_count": 8,
   "metadata": {},
   "outputs": [
    {
     "name": "stderr",
     "output_type": "stream",
     "text": [
      "WARNING: OverflowError converting to IntType for column detid, using string instead. [astropy.io.ascii.core]\n",
      "WARNING: OverflowError converting to IntType for column srcid, using string instead. [astropy.io.ascii.core]\n"
     ]
    }
   ],
   "source": [
    "xmm_full = ascii.read('BrowseTargets.8264.1539051979', delimiter='|', header_start=2, data_start=3)"
   ]
  },
  {
   "cell_type": "code",
   "execution_count": 8,
   "metadata": {
    "collapsed": true
   },
   "outputs": [],
   "source": [
    "xmm = ascii.read('BrowseTargets.28214.1554773283', delimiter='|', header_start=2, data_start=3)"
   ]
  },
  {
   "cell_type": "code",
   "execution_count": 9,
   "metadata": {
    "collapsed": true
   },
   "outputs": [],
   "source": [
    "xmm_processor(xmm)"
   ]
  },
  {
   "cell_type": "code",
   "execution_count": 10,
   "metadata": {
    "collapsed": true
   },
   "outputs": [],
   "source": [
    "generate_sdss('Apr82019SDSS',xmm)"
   ]
  },
  {
   "cell_type": "code",
   "execution_count": 11,
   "metadata": {
    "collapsed": true,
    "scrolled": true
   },
   "outputs": [],
   "source": [
    "generate_ipac('Apr82019IPAC',xmm)"
   ]
  },
  {
   "cell_type": "code",
   "execution_count": null,
   "metadata": {
    "collapsed": true
   },
   "outputs": [],
   "source": []
  }
 ],
 "metadata": {
  "kernelspec": {
   "display_name": "Python 3",
   "language": "python",
   "name": "python3"
  },
  "language_info": {
   "codemirror_mode": {
    "name": "ipython",
    "version": 3
   },
   "file_extension": ".py",
   "mimetype": "text/x-python",
   "name": "python",
   "nbconvert_exporter": "python",
   "pygments_lexer": "ipython3",
   "version": "3.6.4"
  }
 },
 "nbformat": 4,
 "nbformat_minor": 2
}
