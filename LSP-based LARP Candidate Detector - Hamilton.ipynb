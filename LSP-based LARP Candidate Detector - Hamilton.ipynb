{
 "cells": [
  {
   "cell_type": "code",
   "execution_count": null,
   "metadata": {
    "collapsed": true
   },
   "outputs": [],
   "source": [
    "#Written by Andrew Hamilton, TLU Physics, Class of 2019\n",
    "#Part of a research project mentored by Dr. Josh Fuchs during the Summer of 2018"
   ]
  },
  {
   "cell_type": "code",
   "execution_count": 2,
   "metadata": {
    "collapsed": false
   },
   "outputs": [
    {
     "name": "stdout",
     "output_type": "stream",
     "text": [
      "Populating the interactive namespace from numpy and matplotlib\n"
     ]
    }
   ],
   "source": [
    "%pylab inline\n",
    "import csv\n",
    "from astropy.table import Table\n",
    "from astropy.io import ascii"
   ]
  },
  {
   "cell_type": "markdown",
   "metadata": {},
   "source": [
    "# Functions"
   ]
  },
  {
   "cell_type": "code",
   "execution_count": 3,
   "metadata": {
    "collapsed": true,
    "scrolled": true
   },
   "outputs": [],
   "source": [
    "def survey_data(filename):\n",
    "    \"\"\"Survey Data (Cheaty)\n",
    "    \n",
    "    Organizes data obtained by manually querying SDSS dr14 or in the format that I used for said manual querying.\n",
    "    This version makes use of what I consider to be a sneaky little trick to make it applicable to any table that\n",
    "    consists entirely of floats. \n",
    "    \n",
    "    Args:\n",
    "        filename (str): Filename of csv file containing data on known LARPs\n",
    "        \n",
    "    Returns:\n",
    "        (Astropy.table): Table of all fo the data from the csv file\n",
    "    \"\"\"\n",
    "    survey_data = csv.reader(open(filename))\n",
    "    \n",
    "    survey_rows = []\n",
    "    \n",
    "    for line in survey_data:\n",
    "        survey_rows.append(line)\n",
    "    \n",
    "    cheat = []\n",
    "    for i in range(len(survey_rows[0])):\n",
    "        cheat.append('float') \n",
    "    survey_table = Table(names = (survey_rows[0]), masked = True, dtype = cheat)\n",
    "    for row in survey_rows[1:]:\n",
    "        mask_row = []\n",
    "        for item in row:\n",
    "            if item == '0':\n",
    "                mask_row.append(True)\n",
    "            else:\n",
    "                mask_row.append(False)\n",
    "        survey_table.add_row(row, mask = mask_row)\n",
    "    \n",
    "    return survey_table"
   ]
  },
  {
   "cell_type": "code",
   "execution_count": 4,
   "metadata": {
    "collapsed": true
   },
   "outputs": [],
   "source": [
    "def index_range_finder(color_index, deviations = 1):\n",
    "    \"\"\"Color Index Range Finder\n",
    "    \n",
    "    Determines the approximate range of a cluster of Color Indices for a LARP\n",
    "    \n",
    "    Modelled from a cluster found in the I-Z indices of 8 of the 9 known LARPs\n",
    "    \n",
    "    Args:\n",
    "        color_index (list): contains indices of the known LARPs\n",
    "        deviations (float?): number of standard deviations from mean to calc range (int or float preferred?)\n",
    "        \n",
    "    Returns:\n",
    "        (float): lower bound of the cluster range\n",
    "        (float): upper bound of the cluster range\n",
    "    \n",
    "    \"\"\"\n",
    "    stdev = std(color_index)\n",
    "    low_bound = mean(color_index)-stdev*deviations\n",
    "    up_bound = mean(color_index)+stdev*deviations\n",
    "    \n",
    "    return low_bound, up_bound"
   ]
  },
  {
   "cell_type": "code",
   "execution_count": 5,
   "metadata": {
    "collapsed": true
   },
   "outputs": [],
   "source": [
    "def auto_cluster_finder(data, a, b, threshold = 6):\n",
    "    \"\"\"Auto Cluster Finder\n",
    "    \n",
    "    Automatically finds potential clusters\n",
    "    \n",
    "    Args:\n",
    "        data (astropy.Table): Astropy data containing however many magnitudes\n",
    "        a (str): First magnitude, will be subtracted from to get index\n",
    "        b (str): Second magnitude, will be subtracted from a to get index\n",
    "        threshold (int): number of stars contained within cluster region for cluster to be considered valid\n",
    "        \n",
    "    Returns:\n",
    "        (list): List containing lbound, ubound, mag_a, mag_b, and if the filter is valid\n",
    "    \"\"\"\n",
    "    \n",
    "    x = data[a] - data[b]\n",
    "    c, d = index_range_finder(x)\n",
    "    count = 0\n",
    "    for item in x:\n",
    "        if c <= item and item <= d:\n",
    "            count += 1 \n",
    "            \n",
    "    print(a + '-' + b)\n",
    "    if count > threshold:\n",
    "        print('Suitable Filter found!',str(count),'stars in range.')\n",
    "        print('Lbound:',str(c),', Ubound:',str(d))\n",
    "        good_filter = True\n",
    "    else:\n",
    "        #uncomment the line below if you want it to print for ~every single possible filter~\n",
    "        #print('Filter unsuitable. Only',str(count),'stars in range.')\n",
    "        good_filter = False\n",
    "        \n",
    "    return [c, d, a, b, good_filter]"
   ]
  },
  {
   "cell_type": "code",
   "execution_count": 6,
   "metadata": {
    "collapsed": true
   },
   "outputs": [],
   "source": [
    "def filter_generator(data):\n",
    "    \"\"\"Filter Generator\n",
    "    \n",
    "    Generates possible filters for LARPs\n",
    "    \n",
    "    Args:\n",
    "        data (astropy.Table): Astropy data\n",
    "        \n",
    "    Returns:\n",
    "        (list): list containing filters using my standard 1-D filter format, includes insufficient ones\n",
    "    \"\"\"\n",
    "    column_names = data.colnames\n",
    "    \n",
    "    x = len(column_names)\n",
    "    indices = []\n",
    "    for a in range(2,x):\n",
    "        for b in range(2,x):\n",
    "            if a < b:\n",
    "                filt = auto_cluster_finder(data, column_names[a], column_names[b])\n",
    "                if filt[4]:\n",
    "                    indices.append(filt)\n",
    "    return indices"
   ]
  },
  {
   "cell_type": "code",
   "execution_count": 7,
   "metadata": {
    "collapsed": true
   },
   "outputs": [],
   "source": [
    "def compare_indices(filt, row):\n",
    "    \"\"\"Compare Indices\n",
    "    \n",
    "    Determines if an index falls into the filter range\n",
    "    \n",
    "    Args:\n",
    "        filt (list): filter information (in standard 1-D filter format)\n",
    "        row (astropy.Table): magnitude data on one star\n",
    "        \n",
    "    Returns:\n",
    "        (boolean): Whether or not the star passes all the filter conditions\n",
    "    \"\"\"\n",
    "    a = filt[2]\n",
    "    b = filt[3]\n",
    "    x = float(row[a]) - float(row[b])\n",
    "    \n",
    "    if filt[0] <= x and filt[1] >= x:\n",
    "        return True\n",
    "    else:\n",
    "        return False"
   ]
  },
  {
   "cell_type": "code",
   "execution_count": 14,
   "metadata": {
    "collapsed": true
   },
   "outputs": [],
   "source": [
    "def index_filterator(data):\n",
    "    \"\"\"Index Filterator\n",
    "    \n",
    "    Stores coordinates of stars that pass filter conditions in table, can be written to file\n",
    "    \n",
    "    Args:\n",
    "        data (astropy.Table): Astropy data\n",
    "        \n",
    "    Returns:\n",
    "        (astropy.Table): Coordinates of LARP candidates\n",
    "    \"\"\"\n",
    "    indices = filter_generator(larp_table)\n",
    "    names_cheat = larp_table.colnames\n",
    "       \n",
    "    possible_larps = Table(names=names_cheat)\n",
    "    \n",
    "    for row in data:\n",
    "        passes_test = []\n",
    "        for index in indices:\n",
    "            passes_test.append(compare_indices(index, row))\n",
    "            \n",
    "        if False not in passes_test:\n",
    "            possible_larps.add_row(row)\n",
    "    \n",
    "    n_larp_cands = len(possible_larps['ra'])\n",
    "    \n",
    "    print('\\nThere are',str(n_larp_cands),'potential LARPs in this dataset!')\n",
    "    \n",
    "    return possible_larps"
   ]
  },
  {
   "cell_type": "code",
   "execution_count": 9,
   "metadata": {
    "collapsed": true
   },
   "outputs": [],
   "source": [
    "def super_tableizer(data):\n",
    "    \"\"\"Super Tableizer\n",
    "    \n",
    "    Will combine given tables of astro data (as long as the first 2 columns are ra and dec), into one large table\n",
    "    \n",
    "    Args:\n",
    "        Data (list): List containing data tables that you want to combine together\n",
    "        \n",
    "    Return:\n",
    "        (Astropy.Table): Combined Table\n",
    "    \"\"\"\n",
    "    count = 0\n",
    "    datatable = Table()\n",
    "    for dataset in data:\n",
    "        if count == 0:\n",
    "            for name in dataset.colnames:\n",
    "                datatable[name] = dataset[name]\n",
    "        else:\n",
    "            for name in dataset.colnames[2:]:\n",
    "                datatable[name] = dataset[name]\n",
    "        count += 1\n",
    "                \n",
    "    return datatable"
   ]
  },
  {
   "cell_type": "markdown",
   "metadata": {},
   "source": [
    "# Data"
   ]
  },
  {
   "cell_type": "code",
   "execution_count": 10,
   "metadata": {
    "collapsed": true,
    "scrolled": true
   },
   "outputs": [],
   "source": [
    "known_larps = survey_data('LARP Characteristics-SDSS.csv')\n",
    "sdss_table = survey_data('Skyserver_SQL6_25_2018 7_25_30 PM.csv')\n",
    "larps_wise = survey_data('LARP Characteristics-WISE.csv')\n",
    "wise_table = ascii.read('wise_results.tbl')"
   ]
  },
  {
   "cell_type": "code",
   "execution_count": 11,
   "metadata": {
    "collapsed": true
   },
   "outputs": [],
   "source": [
    "larp_data = [known_larps, larps_wise]\n",
    "larp_table = super_tableizer(larp_data)"
   ]
  },
  {
   "cell_type": "code",
   "execution_count": 12,
   "metadata": {
    "collapsed": true
   },
   "outputs": [],
   "source": [
    "survey_data = [sdss_table, wise_table]\n",
    "survey_table = super_tableizer(survey_data)"
   ]
  },
  {
   "cell_type": "code",
   "execution_count": 15,
   "metadata": {
    "collapsed": false,
    "scrolled": false
   },
   "outputs": [
    {
     "name": "stdout",
     "output_type": "stream",
     "text": [
      "u-g\n",
      "Filter unsuitable. Only 5 stars in range.\n",
      "u-r\n",
      "Filter unsuitable. Only 5 stars in range.\n",
      "u-i\n",
      "Suitable Filter found! 7 stars in range.\n",
      "Lbound: 0.9765358714753771 , Ubound: 3.6101307951912895\n",
      "u-z\n",
      "Suitable Filter found! 7 stars in range.\n",
      "Lbound: 1.4866674706546557 , Ubound: 4.557776973789789\n",
      "u-W1\n",
      "Filter unsuitable. Only 5 stars in range.\n",
      "u-W2\n",
      "Filter unsuitable. Only 5 stars in range.\n",
      "u-W3\n",
      "Filter unsuitable. Only 5 stars in range.\n",
      "u-W4\n",
      "Filter unsuitable. Only 6 stars in range.\n",
      "g-r\n",
      "Filter unsuitable. Only 5 stars in range.\n",
      "g-i\n",
      "Suitable Filter found! 7 stars in range.\n",
      "Lbound: 0.5918975161702303 , Ubound: 2.379213594940882\n",
      "g-z\n",
      "Suitable Filter found! 8 stars in range.\n",
      "Lbound: 1.1078569863241488 , Ubound: 3.321031902564741\n",
      "g-W1\n",
      "Filter unsuitable. Only 4 stars in range.\n",
      "g-W2\n",
      "Filter unsuitable. Only 5 stars in range.\n",
      "g-W3\n",
      "Filter unsuitable. Only 6 stars in range.\n",
      "g-W4\n",
      "Filter unsuitable. Only 5 stars in range.\n",
      "r-i\n",
      "Filter unsuitable. Only 6 stars in range.\n",
      "r-z\n",
      "Suitable Filter found! 7 stars in range.\n",
      "Lbound: 0.7199409007337932 , Ubound: 2.182281321488428\n",
      "r-W1\n",
      "Filter unsuitable. Only 4 stars in range.\n",
      "r-W2\n",
      "Filter unsuitable. Only 5 stars in range.\n",
      "r-W3\n",
      "Filter unsuitable. Only 5 stars in range.\n",
      "r-W4\n",
      "Filter unsuitable. Only 5 stars in range.\n",
      "i-z\n",
      "Filter unsuitable. Only 6 stars in range.\n",
      "i-W1\n",
      "Filter unsuitable. Only 4 stars in range.\n",
      "i-W2\n",
      "Filter unsuitable. Only 4 stars in range.\n",
      "i-W3\n",
      "Filter unsuitable. Only 4 stars in range.\n",
      "i-W4\n",
      "Filter unsuitable. Only 5 stars in range.\n",
      "z-W1\n",
      "Filter unsuitable. Only 6 stars in range.\n",
      "z-W2\n",
      "Filter unsuitable. Only 5 stars in range.\n",
      "z-W3\n",
      "Filter unsuitable. Only 4 stars in range.\n",
      "z-W4\n",
      "Filter unsuitable. Only 3 stars in range.\n",
      "W1-W2\n",
      "Filter unsuitable. Only 6 stars in range.\n",
      "W1-W3\n",
      "Filter unsuitable. Only 4 stars in range.\n",
      "W1-W4\n",
      "Filter unsuitable. Only 3 stars in range.\n",
      "W2-W3\n",
      "Filter unsuitable. Only 4 stars in range.\n",
      "W2-W4\n",
      "Filter unsuitable. Only 3 stars in range.\n",
      "W3-W4\n",
      "Filter unsuitable. Only 5 stars in range.\n",
      "\n",
      "There are 67 potential LARPs in this dataset!\n"
     ]
    }
   ],
   "source": [
    "prelim_larps = index_filterator(survey_table)"
   ]
  },
  {
   "cell_type": "code",
   "execution_count": 25,
   "metadata": {
    "collapsed": false
   },
   "outputs": [
    {
     "data": {
      "text/plain": [
       "Text(0,0.5,'G-I')"
      ]
     },
     "execution_count": 25,
     "metadata": {},
     "output_type": "execute_result"
    },
    {
     "data": {
      "image/png": "[encoded data removed]",
      "text/plain": [
       "<matplotlib.figure.Figure at 0x6e54d10>"
      ]
     },
     "metadata": {},
     "output_type": "display_data"
    }
   ],
   "source": [
    "scatter(sdss_table['u']-sdss_table['z'],sdss_table['g']-sdss_table['i'], color = 'k', label = 'Full Sample')\n",
    "scatter(prelim_larps['u']-prelim_larps['z'], prelim_larps['g']-prelim_larps['i'], color = 'g', label = 'LARP Candidates')\n",
    "legend()\n",
    "\n",
    "title('U-Z vs G-I index')\n",
    "xlabel('U-Z')\n",
    "ylabel('G-I')"
   ]
  },
  {
   "cell_type": "code",
   "execution_count": null,
   "metadata": {
    "collapsed": true
   },
   "outputs": [],
   "source": []
  }
 ],
 "metadata": {
  "kernelspec": {
   "display_name": "Python 3",
   "language": "python",
   "name": "python3"
  },
  "language_info": {
   "codemirror_mode": {
    "name": "ipython",
    "version": 3
   },
   "file_extension": ".py",
   "mimetype": "text/x-python",
   "name": "python",
   "nbconvert_exporter": "python",
   "pygments_lexer": "ipython3",
   "version": "3.6.0"
  }
 },
 "nbformat": 4,
 "nbformat_minor": 2
}
