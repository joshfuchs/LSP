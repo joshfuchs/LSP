{
 "cells": [
  {
   "cell_type": "code",
   "execution_count": 1,
   "metadata": {
    "collapsed": true
   },
   "outputs": [],
   "source": [
    "import csv\n",
    "from astropy.table import Table, vstack, hstack, join\n",
    "from astropy.io import ascii"
   ]
  },
  {
   "cell_type": "code",
   "execution_count": 7,
   "metadata": {
    "collapsed": true
   },
   "outputs": [],
   "source": [
    "res1k = ascii.read('1000/output_LARPs.csv')\n",
    "res10ka = ascii.read('10000a/output_LARPs.csv')\n",
    "res10kb = ascii.read('10000b/output_LARPs.csv')"
   ]
  },
  {
   "cell_type": "code",
   "execution_count": 15,
   "metadata": {
    "collapsed": true
   },
   "outputs": [],
   "source": [
    "def link_maker(dataset, filename):\n",
    "    links = []\n",
    "    infile = open(filename, 'w')\n",
    "    for row in dataset:\n",
    "        ra = row['ra']\n",
    "        dec = row['dec']\n",
    "        \n",
    "        obj_link = 'http://skyserver.sdss.org/dr14/en/tools/chart/navi.aspx?ra='+str(ra)+'&dec='+str(dec)+'\\n'\n",
    "        infile.write(obj_link)\n",
    "        links.append(obj_link)\n",
    "        \n",
    "    infile.close()\n",
    "    return links"
   ]
  },
  {
   "cell_type": "code",
   "execution_count": 16,
   "metadata": {},
   "outputs": [],
   "source": [
    "set1 = link_maker(res1k, '1000 Cand.txt')\n",
    "set2 = link_maker(res10ka, '10ka Cand.txt')\n",
    "set3 = link_maker(res10kb, '10kb Cand.txt')"
   ]
  },
  {
   "cell_type": "code",
   "execution_count": 10,
   "metadata": {},
   "outputs": [
    {
     "data": {
      "text/plain": [
       "['http://skyserver.sdss.org/dr14/en/tools/chart/navi.aspx?ra=23.47581354&dec=0.027688889',\n",
       " 'http://skyserver.sdss.org/dr14/en/tools/chart/navi.aspx?ra=23.47581354&dec=0.027697222',\n",
       " 'http://skyserver.sdss.org/dr14/en/tools/chart/navi.aspx?ra=15.27130368&dec=0.072894444',\n",
       " 'http://skyserver.sdss.org/dr14/en/tools/chart/navi.aspx?ra=18.85664083&dec=0.087258333',\n",
       " 'http://skyserver.sdss.org/dr14/en/tools/chart/navi.aspx?ra=18.85664083&dec=0.087897222',\n",
       " 'http://skyserver.sdss.org/dr14/en/tools/chart/navi.aspx?ra=22.24272519&dec=0.090952778',\n",
       " 'http://skyserver.sdss.org/dr14/en/tools/chart/navi.aspx?ra=11.25565549&dec=0.114363889',\n",
       " 'http://skyserver.sdss.org/dr14/en/tools/chart/navi.aspx?ra=23.61624273&dec=0.142058333',\n",
       " 'http://skyserver.sdss.org/dr14/en/tools/chart/navi.aspx?ra=23.56349381&dec=0.147736111',\n",
       " 'http://skyserver.sdss.org/dr14/en/tools/chart/navi.aspx?ra=9.04067634&dec=0.153625',\n",
       " 'http://skyserver.sdss.org/dr14/en/tools/chart/navi.aspx?ra=23.49657741&dec=0.161927778',\n",
       " 'http://skyserver.sdss.org/dr14/en/tools/chart/navi.aspx?ra=23.49657741&dec=0.162058333',\n",
       " 'http://skyserver.sdss.org/dr14/en/tools/chart/navi.aspx?ra=15.3254265&dec=0.180536111',\n",
       " 'http://skyserver.sdss.org/dr14/en/tools/chart/navi.aspx?ra=9.08629541&dec=0.193311111',\n",
       " 'http://skyserver.sdss.org/dr14/en/tools/chart/navi.aspx?ra=10.4801513&dec=0.198686111',\n",
       " 'http://skyserver.sdss.org/dr14/en/tools/chart/navi.aspx?ra=2.94640497&dec=0.256852778',\n",
       " 'http://skyserver.sdss.org/dr14/en/tools/chart/navi.aspx?ra=1.14535217&dec=0.35385',\n",
       " 'http://skyserver.sdss.org/dr14/en/tools/chart/navi.aspx?ra=2.55722434&dec=0.383055556',\n",
       " 'http://skyserver.sdss.org/dr14/en/tools/chart/navi.aspx?ra=21.61423409&dec=0.555808333']"
      ]
     },
     "execution_count": 10,
     "metadata": {},
     "output_type": "execute_result"
    }
   ],
   "source": [
    "set2"
   ]
  },
  {
   "cell_type": "code",
   "execution_count": null,
   "metadata": {
    "collapsed": true
   },
   "outputs": [],
   "source": []
  }
 ],
 "metadata": {
  "kernelspec": {
   "display_name": "Python 3",
   "language": "python",
   "name": "python3"
  },
  "language_info": {
   "codemirror_mode": {
    "name": "ipython",
    "version": 3
   },
   "file_extension": ".py",
   "mimetype": "text/x-python",
   "name": "python",
   "nbconvert_exporter": "python",
   "pygments_lexer": "ipython3",
   "version": "3.6.4"
  }
 },
 "nbformat": 4,
 "nbformat_minor": 2
}
